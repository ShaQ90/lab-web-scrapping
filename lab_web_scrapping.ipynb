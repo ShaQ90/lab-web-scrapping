{
 "cells": [
  {
   "cell_type": "markdown",
   "metadata": {
    "id": "Rq7Fx0T_DPsE"
   },
   "source": [
    "# Web Scrapping lab"
   ]
  },
  {
   "cell_type": "markdown",
   "metadata": {
    "id": "K3n7CJfCD2pK"
   },
   "source": [
    "In this lab you will scrappe this [website](https://books.toscrape.com/) of books.\n",
    "\n",
    "You have to create a Pandas DataFrame with all the books listed in the page. Each row of the DataFrame should contain information of each book. In particular, the DataFrmae must contain:\n",
    "\n",
    "* category\n",
    "* title\n",
    "* price\n",
    "* stock availability\n",
    "* star rating (number of stars)\n",
    "* description\n",
    "* UPC\n",
    "\n",
    "Happy scrapping!\n",
    "\n"
   ]
  },
  {
   "cell_type": "markdown",
   "metadata": {
    "id": "IaqLnJRLBqMS"
   },
   "source": [
    "# Server verification"
   ]
  },
  {
   "cell_type": "markdown",
   "metadata": {
    "id": "QNXuRli_BvJp"
   },
   "source": [
    "Load the needed libraries, and make sure thar you can obtain the correct status code."
   ]
  },
  {
   "cell_type": "code",
   "execution_count": 1,
   "metadata": {
    "colab": {
     "base_uri": "https://localhost:8080/"
    },
    "id": "szKOZm99Frlf",
    "outputId": "184b2f54-7eaa-4d31-b66f-f3f8311e80e6"
   },
   "outputs": [],
   "source": [
    "\n",
    "import requests\n",
    "from bs4 import BeautifulSoup\n",
    "import pandas as pd\n",
    "\n",
    "url = \"http://books.toscrape.com/\"\n",
    "response = requests.get(url)\n"
   ]
  },
  {
   "cell_type": "markdown",
   "metadata": {
    "id": "SSrTPTKnCD-N"
   },
   "source": [
    "# Book categories"
   ]
  },
  {
   "cell_type": "markdown",
   "metadata": {
    "id": "Yu5FjaMECISF"
   },
   "source": [
    "Create the code to collect the **relative urls** from the left panel to obtain a list with all the book categories."
   ]
  },
  {
   "cell_type": "code",
   "execution_count": 2,
   "metadata": {
    "colab": {
     "base_uri": "https://localhost:8080/"
    },
    "id": "Y12krHNrGPsu",
    "outputId": "8e1a4907-1b82-4f2d-f8a9-c7c10b6e6bed"
   },
   "outputs": [],
   "source": [
    "\n",
    "soup = BeautifulSoup(response.content, \"html.parser\")\n",
    "categories = soup.find(\"ul\", class_=\"nav\").find_all(\"a\")\n",
    "\n",
    "cat_name = []\n",
    "cat_url = []\n",
    "\n",
    "for category in categories:\n",
    "    cat_name.append(category.text.strip())\n",
    "    cat_url.append(category[\"href\"])\n",
    "\n"
   ]
  },
  {
   "cell_type": "markdown",
   "metadata": {
    "id": "tAq9izU8Cpyx"
   },
   "source": [
    "# Books in a given category\n",
    "\n",
    "Use. web scrapping and list comprehension to obtain the **absolute** url of each book to be scraped"
   ]
  },
  {
   "cell_type": "code",
   "execution_count": null,
   "metadata": {},
   "outputs": [],
   "source": [
    "url_list = []\n",
    "for x in range(1, 50):\n",
    "    response = requests.get(f\"https://books.toscrape.com/catalogue/page-{x}.html\")\n",
    "    soup = BeautifulSoup(response.content, \"html.parser\")\n",
    "    url_book = soup.find(\"ol\", class_=\"row\").find_all(\"a\")\n",
    "\n",
    "    for y in range(0, len(url_book), 2):\n",
    "        url_list.append(\"https://books.toscrape.com/catalogue/\" + url_book[y][\"href\"])\n"
   ]
  },
  {
   "cell_type": "markdown",
   "metadata": {
    "id": "wLIh0a_LDJMo"
   },
   "source": [
    "# Book details\n",
    "\n",
    "Create a Python function that given a book_url as an input returns a dictionary with the following structure:\n",
    "\n",
    "```Python\n",
    "{\"Title\": title, \"Price\": price, \"Availability\": availability, \"Rating\": rating, \"Description\": description, \"UPC\": upc}\n",
    "```\n",
    "\n",
    "where `description` should contain the book's summary given in the Product description, and the values are the book's associated information."
   ]
  },
  {
   "cell_type": "code",
   "execution_count": null,
   "metadata": {
    "id": "5-uC7hz1LxCd"
   },
   "outputs": [],
   "source": [
    "\n",
    "\n",
    "def book_details(url):\n",
    "    response = requests.get(url)\n",
    "    soup = BeautifulSoup(response.content, \"html.parser\")\n",
    "    \n",
    "    title = soup.find('h1').string\n",
    "    price = soup.find('p', class_='price_color')\n",
    "    availability = soup.find('p', class_='instock availability')\n",
    "    rating = soup.find('p', class_='star-rating')\n",
    "    description = soup.find('meta', attrs={\"name\": \"description\"})\n",
    "    upc = soup.find('th', text='UPC')\n",
    "\n",
    "    dic = {\n",
    "        \"Title\": title,\n",
    "        \"Price\": price,\n",
    "        \"Availability\": availability,\n",
    "        \"Rating\": rating,\n",
    "        \"Description\": description,\n",
    "        \"UPC\": upc\n",
    "    }\n",
    "    \n",
    "    return dic\n",
    "\n"
   ]
  },
  {
   "cell_type": "markdown",
   "metadata": {
    "id": "GvSqhX4UDxbb"
   },
   "source": [
    "# Collect and store all the information from the books in a Pandas DataFrame\n",
    "\n",
    "Start with the following dictionary:\n",
    "\n",
    "```python\n",
    "books_dict = {\"Title\": [], \"Price\": [], \"Availability\": [], \"Rating\": [], \"Description\": [], \"UPC\": [], \"Category\": [] }\n",
    "```\n",
    "\n",
    "Then, iterate over all the categories and all the books in a given category to collect any book information using the previous function. Fill the previous dictionary with the information about each book.\n",
    "\n",
    "Show the first five rows of the previous final Pandas DataFrame.\n",
    "\n",
    "Tip: You can use the function `tqdm` from the library `tqdm` to show a progress bar if in iterable of a for loop as shown below :wink: :\n",
    "\n",
    "```python\n",
    "from tqdm import tqdm\n",
    "\n",
    "for elem in tqdm(iterable):\n",
    "    # some code\n",
    "```\n",
    "\n",
    "\n",
    "\n"
   ]
  },
  {
   "cell_type": "code",
   "execution_count": null,
   "metadata": {
    "colab": {
     "base_uri": "https://localhost:8080/",
     "height": 1000
    },
    "id": "apeImoCxStA5",
    "outputId": "20d2d37c-5cbe-4062-e407-80f77955a8d3"
   },
   "outputs": [],
   "source": [
    "from tqdm import tqdm\n",
    "\n",
    "books_dict = {\"Title\": [], \"Price\": [], \"Availability\": [], \"Rating\": [], \"Description\": [], \"UPC\": [], \"Category\": [] }\n",
    "\n",
    "for category_name, category in tqdm(zip(cat_name, cat_url)):\n",
    "    category_url = url + category\n",
    "    response = requests.get(category_url)\n",
    "    soup = BeautifulSoup(response.text, 'html.parser')\n",
    "\n",
    "    books = soup.find_all('article', class_='product_pod')\n",
    "    book_urls = [url + 'catalogue/' + book.h3.a['href'] for book in books]\n",
    "\n",
    "    for book_url in book_urls:\n",
    "        book_info = book_details(book_url)\n",
    "        books_dict[\"Title\"].append(book_info[\"Title\"])\n",
    "        books_dict[\"Price\"].append(book_info[\"Price\"])\n",
    "        books_dict[\"Availability\"].append(book_info[\"Availability\"])\n",
    "        books_dict[\"Rating\"].append(book_info[\"Rating\"])\n",
    "        books_dict[\"Description\"].append(book_info[\"Description\"])\n",
    "        books_dict[\"UPC\"].append(book_info[\"UPC\"])\n",
    "        books_dict[\"Category\"].append(category_name)\n",
    "\n",
    "# Creating DataFrame from the dictionary\n",
    "df = pd.DataFrame(books_dict)\n",
    "\n",
    "# Display the DataFrame\n",
    "print(df)"
   ]
  },
  {
   "cell_type": "code",
   "execution_count": null,
   "metadata": {},
   "outputs": [],
   "source": []
  }
 ],
 "metadata": {
  "colab": {
   "provenance": []
  },
  "kernelspec": {
   "display_name": "Python 3 (ipykernel)",
   "language": "python",
   "name": "python3"
  },
  "language_info": {
   "codemirror_mode": {
    "name": "ipython",
    "version": 3
   },
   "file_extension": ".py",
   "mimetype": "text/x-python",
   "name": "python",
   "nbconvert_exporter": "python",
   "pygments_lexer": "ipython3",
   "version": "3.12.4"
  }
 },
 "nbformat": 4,
 "nbformat_minor": 4
}
